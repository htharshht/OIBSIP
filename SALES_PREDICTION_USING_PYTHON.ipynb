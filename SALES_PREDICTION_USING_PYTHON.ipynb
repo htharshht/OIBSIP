{
  "nbformat": 4,
  "nbformat_minor": 0,
  "metadata": {
    "colab": {
      "provenance": [],
      "authorship_tag": "ABX9TyMri2Kese9Cp8Pw2TljqKd7",
      "include_colab_link": true
    },
    "kernelspec": {
      "name": "python3",
      "display_name": "Python 3"
    },
    "language_info": {
      "name": "python"
    },
    "gpuClass": "standard"
  },
  "cells": [
    {
      "cell_type": "markdown",
      "metadata": {
        "id": "view-in-github",
        "colab_type": "text"
      },
      "source": [
        "<a href=\"https://colab.research.google.com/github/htharshht/OIBSIP/blob/main/SALES_PREDICTION_USING_PYTHON.ipynb\" target=\"_parent\"><img src=\"https://colab.research.google.com/assets/colab-badge.svg\" alt=\"Open In Colab\"/></a>"
      ]
    },
    {
      "cell_type": "markdown",
      "source": [
        "# **Project Name:**  SALES PREDICTION USING PYTHON\n",
        "\n",
        "![SALES PREDICTION USING PYTHON.jpg](data:image/jpeg;base64,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)"
      ],
      "metadata": {
        "id": "0XticqpFb5f7"
      }
    },
    {
      "cell_type": "markdown",
      "source": [
        "**Project Type:** Machine Learning\n",
        "\n",
        "**Author:** Harshit Tiwari\n",
        "\n",
        "Visit my **[GitHub](https://github.com/htharshht)**\n",
        "\n",
        "**DataSet:** [Advertising.csv](https://www.kaggle.com/datasets/bumba5341/advertisingcsv)"
      ],
      "metadata": {
        "id": "o_C6rXpUcYaB"
      }
    },
    {
      "cell_type": "markdown",
      "source": [
        "# **Project Summary:**\n",
        "\n",
        "The goal of this project is to Predict the Future Sales for the challenging time-series dataset consisting of daily sales data."
      ],
      "metadata": {
        "id": "Ohozvn-5ckzI"
      }
    },
    {
      "cell_type": "code",
      "execution_count": null,
      "metadata": {
        "id": "BlmIWGCNhIb3"
      },
      "outputs": [],
      "source": [
        "# Importing Necessary Libraries\n",
        "import pandas as pd\n",
        "import numpy as np\n",
        "import matplotlib.pyplot as plt\n",
        "import seaborn as sns\n",
        "%matplotlib inline\n",
        "\n",
        "from sklearn.model_selection import train_test_split\n",
        "from sklearn.linear_model import LinearRegression\n",
        "from sklearn.linear_model import Lasso\n",
        "from sklearn.preprocessing import StandardScaler\n",
        "from sklearn.metrics import r2_score\n",
        "from sklearn import metrics\n",
        "import warnings"
      ]
    },
    {
      "cell_type": "code",
      "source": [
        "sales_df = pd.read_csv('/content/Advertising.csv')"
      ],
      "metadata": {
        "id": "rDF4TWFJhafM"
      },
      "execution_count": null,
      "outputs": []
    },
    {
      "cell_type": "code",
      "source": [
        "sales_df.head()"
      ],
      "metadata": {
        "colab": {
          "base_uri": "https://localhost:8080/",
          "height": 206
        },
        "id": "TBjN_1TBhagv",
        "outputId": "fde41f65-e9a5-4c78-f965-2e060bda0d2a"
      },
      "execution_count": null,
      "outputs": [
        {
          "output_type": "execute_result",
          "data": {
            "text/plain": [
              "   Unnamed: 0     TV  Radio  Newspaper  Sales\n",
              "0           1  230.1   37.8       69.2   22.1\n",
              "1           2   44.5   39.3       45.1   10.4\n",
              "2           3   17.2   45.9       69.3    9.3\n",
              "3           4  151.5   41.3       58.5   18.5\n",
              "4           5  180.8   10.8       58.4   12.9"
            ],
            "text/html": [
              "\n",
              "  <div id=\"df-9f7986b2-ee08-47e5-9ade-11dcc503fb7a\">\n",
              "    <div class=\"colab-df-container\">\n",
              "      <div>\n",
              "<style scoped>\n",
              "    .dataframe tbody tr th:only-of-type {\n",
              "        vertical-align: middle;\n",
              "    }\n",
              "\n",
              "    .dataframe tbody tr th {\n",
              "        vertical-align: top;\n",
              "    }\n",
              "\n",
              "    .dataframe thead th {\n",
              "        text-align: right;\n",
              "    }\n",
              "</style>\n",
              "<table border=\"1\" class=\"dataframe\">\n",
              "  <thead>\n",
              "    <tr style=\"text-align: right;\">\n",
              "      <th></th>\n",
              "      <th>Unnamed: 0</th>\n",
              "      <th>TV</th>\n",
              "      <th>Radio</th>\n",
              "      <th>Newspaper</th>\n",
              "      <th>Sales</th>\n",
              "    </tr>\n",
              "  </thead>\n",
              "  <tbody>\n",
              "    <tr>\n",
              "      <th>0</th>\n",
              "      <td>1</td>\n",
              "      <td>230.1</td>\n",
              "      <td>37.8</td>\n",
              "      <td>69.2</td>\n",
              "      <td>22.1</td>\n",
              "    </tr>\n",
              "    <tr>\n",
              "      <th>1</th>\n",
              "      <td>2</td>\n",
              "      <td>44.5</td>\n",
              "      <td>39.3</td>\n",
              "      <td>45.1</td>\n",
              "      <td>10.4</td>\n",
              "    </tr>\n",
              "    <tr>\n",
              "      <th>2</th>\n",
              "      <td>3</td>\n",
              "      <td>17.2</td>\n",
              "      <td>45.9</td>\n",
              "      <td>69.3</td>\n",
              "      <td>9.3</td>\n",
              "    </tr>\n",
              "    <tr>\n",
              "      <th>3</th>\n",
              "      <td>4</td>\n",
              "      <td>151.5</td>\n",
              "      <td>41.3</td>\n",
              "      <td>58.5</td>\n",
              "      <td>18.5</td>\n",
              "    </tr>\n",
              "    <tr>\n",
              "      <th>4</th>\n",
              "      <td>5</td>\n",
              "      <td>180.8</td>\n",
              "      <td>10.8</td>\n",
              "      <td>58.4</td>\n",
              "      <td>12.9</td>\n",
              "    </tr>\n",
              "  </tbody>\n",
              "</table>\n",
              "</div>\n",
              "      <button class=\"colab-df-convert\" onclick=\"convertToInteractive('df-9f7986b2-ee08-47e5-9ade-11dcc503fb7a')\"\n",
              "              title=\"Convert this dataframe to an interactive table.\"\n",
              "              style=\"display:none;\">\n",
              "        \n",
              "  <svg xmlns=\"http://www.w3.org/2000/svg\" height=\"24px\"viewBox=\"0 0 24 24\"\n",
              "       width=\"24px\">\n",
              "    <path d=\"M0 0h24v24H0V0z\" fill=\"none\"/>\n",
              "    <path d=\"M18.56 5.44l.94 2.06.94-2.06 2.06-.94-2.06-.94-.94-2.06-.94 2.06-2.06.94zm-11 1L8.5 8.5l.94-2.06 2.06-.94-2.06-.94L8.5 2.5l-.94 2.06-2.06.94zm10 10l.94 2.06.94-2.06 2.06-.94-2.06-.94-.94-2.06-.94 2.06-2.06.94z\"/><path d=\"M17.41 7.96l-1.37-1.37c-.4-.4-.92-.59-1.43-.59-.52 0-1.04.2-1.43.59L10.3 9.45l-7.72 7.72c-.78.78-.78 2.05 0 2.83L4 21.41c.39.39.9.59 1.41.59.51 0 1.02-.2 1.41-.59l7.78-7.78 2.81-2.81c.8-.78.8-2.07 0-2.86zM5.41 20L4 18.59l7.72-7.72 1.47 1.35L5.41 20z\"/>\n",
              "  </svg>\n",
              "      </button>\n",
              "      \n",
              "  <style>\n",
              "    .colab-df-container {\n",
              "      display:flex;\n",
              "      flex-wrap:wrap;\n",
              "      gap: 12px;\n",
              "    }\n",
              "\n",
              "    .colab-df-convert {\n",
              "      background-color: #E8F0FE;\n",
              "      border: none;\n",
              "      border-radius: 50%;\n",
              "      cursor: pointer;\n",
              "      display: none;\n",
              "      fill: #1967D2;\n",
              "      height: 32px;\n",
              "      padding: 0 0 0 0;\n",
              "      width: 32px;\n",
              "    }\n",
              "\n",
              "    .colab-df-convert:hover {\n",
              "      background-color: #E2EBFA;\n",
              "      box-shadow: 0px 1px 2px rgba(60, 64, 67, 0.3), 0px 1px 3px 1px rgba(60, 64, 67, 0.15);\n",
              "      fill: #174EA6;\n",
              "    }\n",
              "\n",
              "    [theme=dark] .colab-df-convert {\n",
              "      background-color: #3B4455;\n",
              "      fill: #D2E3FC;\n",
              "    }\n",
              "\n",
              "    [theme=dark] .colab-df-convert:hover {\n",
              "      background-color: #434B5C;\n",
              "      box-shadow: 0px 1px 3px 1px rgba(0, 0, 0, 0.15);\n",
              "      filter: drop-shadow(0px 1px 2px rgba(0, 0, 0, 0.3));\n",
              "      fill: #FFFFFF;\n",
              "    }\n",
              "  </style>\n",
              "\n",
              "      <script>\n",
              "        const buttonEl =\n",
              "          document.querySelector('#df-9f7986b2-ee08-47e5-9ade-11dcc503fb7a button.colab-df-convert');\n",
              "        buttonEl.style.display =\n",
              "          google.colab.kernel.accessAllowed ? 'block' : 'none';\n",
              "\n",
              "        async function convertToInteractive(key) {\n",
              "          const element = document.querySelector('#df-9f7986b2-ee08-47e5-9ade-11dcc503fb7a');\n",
              "          const dataTable =\n",
              "            await google.colab.kernel.invokeFunction('convertToInteractive',\n",
              "                                                     [key], {});\n",
              "          if (!dataTable) return;\n",
              "\n",
              "          const docLinkHtml = 'Like what you see? Visit the ' +\n",
              "            '<a target=\"_blank\" href=https://colab.research.google.com/notebooks/data_table.ipynb>data table notebook</a>'\n",
              "            + ' to learn more about interactive tables.';\n",
              "          element.innerHTML = '';\n",
              "          dataTable['output_type'] = 'display_data';\n",
              "          await google.colab.output.renderOutput(dataTable, element);\n",
              "          const docLink = document.createElement('div');\n",
              "          docLink.innerHTML = docLinkHtml;\n",
              "          element.appendChild(docLink);\n",
              "        }\n",
              "      </script>\n",
              "    </div>\n",
              "  </div>\n",
              "  "
            ]
          },
          "metadata": {},
          "execution_count": 169
        }
      ]
    },
    {
      "cell_type": "code",
      "source": [
        "sales_df = sales_df.drop(['Unnamed: 0'], axis=1) # Dropping the columns\n",
        "                                                 # Second way to drop columns : sales_df = sales_df.drop(columns=['Unnamed: 0'])"
      ],
      "metadata": {
        "id": "S9C7zJqXAEtw"
      },
      "execution_count": null,
      "outputs": []
    },
    {
      "cell_type": "code",
      "source": [
        "sales_df.head()"
      ],
      "metadata": {
        "colab": {
          "base_uri": "https://localhost:8080/",
          "height": 206
        },
        "id": "UxOPz_bFAxJZ",
        "outputId": "56d20030-be03-4135-f0a6-79ff556fe534"
      },
      "execution_count": null,
      "outputs": [
        {
          "output_type": "execute_result",
          "data": {
            "text/plain": [
              "      TV  Radio  Newspaper  Sales\n",
              "0  230.1   37.8       69.2   22.1\n",
              "1   44.5   39.3       45.1   10.4\n",
              "2   17.2   45.9       69.3    9.3\n",
              "3  151.5   41.3       58.5   18.5\n",
              "4  180.8   10.8       58.4   12.9"
            ],
            "text/html": [
              "\n",
              "  <div id=\"df-54e66e95-de4d-4285-98fa-0ae9d63ba21d\">\n",
              "    <div class=\"colab-df-container\">\n",
              "      <div>\n",
              "<style scoped>\n",
              "    .dataframe tbody tr th:only-of-type {\n",
              "        vertical-align: middle;\n",
              "    }\n",
              "\n",
              "    .dataframe tbody tr th {\n",
              "        vertical-align: top;\n",
              "    }\n",
              "\n",
              "    .dataframe thead th {\n",
              "        text-align: right;\n",
              "    }\n",
              "</style>\n",
              "<table border=\"1\" class=\"dataframe\">\n",
              "  <thead>\n",
              "    <tr style=\"text-align: right;\">\n",
              "      <th></th>\n",
              "      <th>TV</th>\n",
              "      <th>Radio</th>\n",
              "      <th>Newspaper</th>\n",
              "      <th>Sales</th>\n",
              "    </tr>\n",
              "  </thead>\n",
              "  <tbody>\n",
              "    <tr>\n",
              "      <th>0</th>\n",
              "      <td>230.1</td>\n",
              "      <td>37.8</td>\n",
              "      <td>69.2</td>\n",
              "      <td>22.1</td>\n",
              "    </tr>\n",
              "    <tr>\n",
              "      <th>1</th>\n",
              "      <td>44.5</td>\n",
              "      <td>39.3</td>\n",
              "      <td>45.1</td>\n",
              "      <td>10.4</td>\n",
              "    </tr>\n",
              "    <tr>\n",
              "      <th>2</th>\n",
              "      <td>17.2</td>\n",
              "      <td>45.9</td>\n",
              "      <td>69.3</td>\n",
              "      <td>9.3</td>\n",
              "    </tr>\n",
              "    <tr>\n",
              "      <th>3</th>\n",
              "      <td>151.5</td>\n",
              "      <td>41.3</td>\n",
              "      <td>58.5</td>\n",
              "      <td>18.5</td>\n",
              "    </tr>\n",
              "    <tr>\n",
              "      <th>4</th>\n",
              "      <td>180.8</td>\n",
              "      <td>10.8</td>\n",
              "      <td>58.4</td>\n",
              "      <td>12.9</td>\n",
              "    </tr>\n",
              "  </tbody>\n",
              "</table>\n",
              "</div>\n",
              "      <button class=\"colab-df-convert\" onclick=\"convertToInteractive('df-54e66e95-de4d-4285-98fa-0ae9d63ba21d')\"\n",
              "              title=\"Convert this dataframe to an interactive table.\"\n",
              "              style=\"display:none;\">\n",
              "        \n",
              "  <svg xmlns=\"http://www.w3.org/2000/svg\" height=\"24px\"viewBox=\"0 0 24 24\"\n",
              "       width=\"24px\">\n",
              "    <path d=\"M0 0h24v24H0V0z\" fill=\"none\"/>\n",
              "    <path d=\"M18.56 5.44l.94 2.06.94-2.06 2.06-.94-2.06-.94-.94-2.06-.94 2.06-2.06.94zm-11 1L8.5 8.5l.94-2.06 2.06-.94-2.06-.94L8.5 2.5l-.94 2.06-2.06.94zm10 10l.94 2.06.94-2.06 2.06-.94-2.06-.94-.94-2.06-.94 2.06-2.06.94z\"/><path d=\"M17.41 7.96l-1.37-1.37c-.4-.4-.92-.59-1.43-.59-.52 0-1.04.2-1.43.59L10.3 9.45l-7.72 7.72c-.78.78-.78 2.05 0 2.83L4 21.41c.39.39.9.59 1.41.59.51 0 1.02-.2 1.41-.59l7.78-7.78 2.81-2.81c.8-.78.8-2.07 0-2.86zM5.41 20L4 18.59l7.72-7.72 1.47 1.35L5.41 20z\"/>\n",
              "  </svg>\n",
              "      </button>\n",
              "      \n",
              "  <style>\n",
              "    .colab-df-container {\n",
              "      display:flex;\n",
              "      flex-wrap:wrap;\n",
              "      gap: 12px;\n",
              "    }\n",
              "\n",
              "    .colab-df-convert {\n",
              "      background-color: #E8F0FE;\n",
              "      border: none;\n",
              "      border-radius: 50%;\n",
              "      cursor: pointer;\n",
              "      display: none;\n",
              "      fill: #1967D2;\n",
              "      height: 32px;\n",
              "      padding: 0 0 0 0;\n",
              "      width: 32px;\n",
              "    }\n",
              "\n",
              "    .colab-df-convert:hover {\n",
              "      background-color: #E2EBFA;\n",
              "      box-shadow: 0px 1px 2px rgba(60, 64, 67, 0.3), 0px 1px 3px 1px rgba(60, 64, 67, 0.15);\n",
              "      fill: #174EA6;\n",
              "    }\n",
              "\n",
              "    [theme=dark] .colab-df-convert {\n",
              "      background-color: #3B4455;\n",
              "      fill: #D2E3FC;\n",
              "    }\n",
              "\n",
              "    [theme=dark] .colab-df-convert:hover {\n",
              "      background-color: #434B5C;\n",
              "      box-shadow: 0px 1px 3px 1px rgba(0, 0, 0, 0.15);\n",
              "      filter: drop-shadow(0px 1px 2px rgba(0, 0, 0, 0.3));\n",
              "      fill: #FFFFFF;\n",
              "    }\n",
              "  </style>\n",
              "\n",
              "      <script>\n",
              "        const buttonEl =\n",
              "          document.querySelector('#df-54e66e95-de4d-4285-98fa-0ae9d63ba21d button.colab-df-convert');\n",
              "        buttonEl.style.display =\n",
              "          google.colab.kernel.accessAllowed ? 'block' : 'none';\n",
              "\n",
              "        async function convertToInteractive(key) {\n",
              "          const element = document.querySelector('#df-54e66e95-de4d-4285-98fa-0ae9d63ba21d');\n",
              "          const dataTable =\n",
              "            await google.colab.kernel.invokeFunction('convertToInteractive',\n",
              "                                                     [key], {});\n",
              "          if (!dataTable) return;\n",
              "\n",
              "          const docLinkHtml = 'Like what you see? Visit the ' +\n",
              "            '<a target=\"_blank\" href=https://colab.research.google.com/notebooks/data_table.ipynb>data table notebook</a>'\n",
              "            + ' to learn more about interactive tables.';\n",
              "          element.innerHTML = '';\n",
              "          dataTable['output_type'] = 'display_data';\n",
              "          await google.colab.output.renderOutput(dataTable, element);\n",
              "          const docLink = document.createElement('div');\n",
              "          docLink.innerHTML = docLinkHtml;\n",
              "          element.appendChild(docLink);\n",
              "        }\n",
              "      </script>\n",
              "    </div>\n",
              "  </div>\n",
              "  "
            ]
          },
          "metadata": {},
          "execution_count": 171
        }
      ]
    },
    {
      "cell_type": "code",
      "source": [
        "sales_df.shape"
      ],
      "metadata": {
        "id": "nnT72HGthakE",
        "colab": {
          "base_uri": "https://localhost:8080/"
        },
        "outputId": "32b78538-f66d-4f2e-9131-84f740ba9488"
      },
      "execution_count": null,
      "outputs": [
        {
          "output_type": "execute_result",
          "data": {
            "text/plain": [
              "(200, 4)"
            ]
          },
          "metadata": {},
          "execution_count": 172
        }
      ]
    },
    {
      "cell_type": "code",
      "source": [
        "X = sales_df.drop(['Sales'],axis=1)\n",
        "Y = sales_df['Sales']"
      ],
      "metadata": {
        "id": "c0lOAVwMhaln"
      },
      "execution_count": null,
      "outputs": []
    },
    {
      "cell_type": "code",
      "source": [
        "X"
      ],
      "metadata": {
        "id": "QAj2vevyhapE",
        "colab": {
          "base_uri": "https://localhost:8080/",
          "height": 423
        },
        "outputId": "0399147c-9253-4f6a-b67c-d8706a1fb1de"
      },
      "execution_count": null,
      "outputs": [
        {
          "output_type": "execute_result",
          "data": {
            "text/plain": [
              "        TV  Radio  Newspaper\n",
              "0    230.1   37.8       69.2\n",
              "1     44.5   39.3       45.1\n",
              "2     17.2   45.9       69.3\n",
              "3    151.5   41.3       58.5\n",
              "4    180.8   10.8       58.4\n",
              "..     ...    ...        ...\n",
              "195   38.2    3.7       13.8\n",
              "196   94.2    4.9        8.1\n",
              "197  177.0    9.3        6.4\n",
              "198  283.6   42.0       66.2\n",
              "199  232.1    8.6        8.7\n",
              "\n",
              "[200 rows x 3 columns]"
            ],
            "text/html": [
              "\n",
              "  <div id=\"df-81f34b06-2ebf-4eb6-8d08-a951213b204a\">\n",
              "    <div class=\"colab-df-container\">\n",
              "      <div>\n",
              "<style scoped>\n",
              "    .dataframe tbody tr th:only-of-type {\n",
              "        vertical-align: middle;\n",
              "    }\n",
              "\n",
              "    .dataframe tbody tr th {\n",
              "        vertical-align: top;\n",
              "    }\n",
              "\n",
              "    .dataframe thead th {\n",
              "        text-align: right;\n",
              "    }\n",
              "</style>\n",
              "<table border=\"1\" class=\"dataframe\">\n",
              "  <thead>\n",
              "    <tr style=\"text-align: right;\">\n",
              "      <th></th>\n",
              "      <th>TV</th>\n",
              "      <th>Radio</th>\n",
              "      <th>Newspaper</th>\n",
              "    </tr>\n",
              "  </thead>\n",
              "  <tbody>\n",
              "    <tr>\n",
              "      <th>0</th>\n",
              "      <td>230.1</td>\n",
              "      <td>37.8</td>\n",
              "      <td>69.2</td>\n",
              "    </tr>\n",
              "    <tr>\n",
              "      <th>1</th>\n",
              "      <td>44.5</td>\n",
              "      <td>39.3</td>\n",
              "      <td>45.1</td>\n",
              "    </tr>\n",
              "    <tr>\n",
              "      <th>2</th>\n",
              "      <td>17.2</td>\n",
              "      <td>45.9</td>\n",
              "      <td>69.3</td>\n",
              "    </tr>\n",
              "    <tr>\n",
              "      <th>3</th>\n",
              "      <td>151.5</td>\n",
              "      <td>41.3</td>\n",
              "      <td>58.5</td>\n",
              "    </tr>\n",
              "    <tr>\n",
              "      <th>4</th>\n",
              "      <td>180.8</td>\n",
              "      <td>10.8</td>\n",
              "      <td>58.4</td>\n",
              "    </tr>\n",
              "    <tr>\n",
              "      <th>...</th>\n",
              "      <td>...</td>\n",
              "      <td>...</td>\n",
              "      <td>...</td>\n",
              "    </tr>\n",
              "    <tr>\n",
              "      <th>195</th>\n",
              "      <td>38.2</td>\n",
              "      <td>3.7</td>\n",
              "      <td>13.8</td>\n",
              "    </tr>\n",
              "    <tr>\n",
              "      <th>196</th>\n",
              "      <td>94.2</td>\n",
              "      <td>4.9</td>\n",
              "      <td>8.1</td>\n",
              "    </tr>\n",
              "    <tr>\n",
              "      <th>197</th>\n",
              "      <td>177.0</td>\n",
              "      <td>9.3</td>\n",
              "      <td>6.4</td>\n",
              "    </tr>\n",
              "    <tr>\n",
              "      <th>198</th>\n",
              "      <td>283.6</td>\n",
              "      <td>42.0</td>\n",
              "      <td>66.2</td>\n",
              "    </tr>\n",
              "    <tr>\n",
              "      <th>199</th>\n",
              "      <td>232.1</td>\n",
              "      <td>8.6</td>\n",
              "      <td>8.7</td>\n",
              "    </tr>\n",
              "  </tbody>\n",
              "</table>\n",
              "<p>200 rows × 3 columns</p>\n",
              "</div>\n",
              "      <button class=\"colab-df-convert\" onclick=\"convertToInteractive('df-81f34b06-2ebf-4eb6-8d08-a951213b204a')\"\n",
              "              title=\"Convert this dataframe to an interactive table.\"\n",
              "              style=\"display:none;\">\n",
              "        \n",
              "  <svg xmlns=\"http://www.w3.org/2000/svg\" height=\"24px\"viewBox=\"0 0 24 24\"\n",
              "       width=\"24px\">\n",
              "    <path d=\"M0 0h24v24H0V0z\" fill=\"none\"/>\n",
              "    <path d=\"M18.56 5.44l.94 2.06.94-2.06 2.06-.94-2.06-.94-.94-2.06-.94 2.06-2.06.94zm-11 1L8.5 8.5l.94-2.06 2.06-.94-2.06-.94L8.5 2.5l-.94 2.06-2.06.94zm10 10l.94 2.06.94-2.06 2.06-.94-2.06-.94-.94-2.06-.94 2.06-2.06.94z\"/><path d=\"M17.41 7.96l-1.37-1.37c-.4-.4-.92-.59-1.43-.59-.52 0-1.04.2-1.43.59L10.3 9.45l-7.72 7.72c-.78.78-.78 2.05 0 2.83L4 21.41c.39.39.9.59 1.41.59.51 0 1.02-.2 1.41-.59l7.78-7.78 2.81-2.81c.8-.78.8-2.07 0-2.86zM5.41 20L4 18.59l7.72-7.72 1.47 1.35L5.41 20z\"/>\n",
              "  </svg>\n",
              "      </button>\n",
              "      \n",
              "  <style>\n",
              "    .colab-df-container {\n",
              "      display:flex;\n",
              "      flex-wrap:wrap;\n",
              "      gap: 12px;\n",
              "    }\n",
              "\n",
              "    .colab-df-convert {\n",
              "      background-color: #E8F0FE;\n",
              "      border: none;\n",
              "      border-radius: 50%;\n",
              "      cursor: pointer;\n",
              "      display: none;\n",
              "      fill: #1967D2;\n",
              "      height: 32px;\n",
              "      padding: 0 0 0 0;\n",
              "      width: 32px;\n",
              "    }\n",
              "\n",
              "    .colab-df-convert:hover {\n",
              "      background-color: #E2EBFA;\n",
              "      box-shadow: 0px 1px 2px rgba(60, 64, 67, 0.3), 0px 1px 3px 1px rgba(60, 64, 67, 0.15);\n",
              "      fill: #174EA6;\n",
              "    }\n",
              "\n",
              "    [theme=dark] .colab-df-convert {\n",
              "      background-color: #3B4455;\n",
              "      fill: #D2E3FC;\n",
              "    }\n",
              "\n",
              "    [theme=dark] .colab-df-convert:hover {\n",
              "      background-color: #434B5C;\n",
              "      box-shadow: 0px 1px 3px 1px rgba(0, 0, 0, 0.15);\n",
              "      filter: drop-shadow(0px 1px 2px rgba(0, 0, 0, 0.3));\n",
              "      fill: #FFFFFF;\n",
              "    }\n",
              "  </style>\n",
              "\n",
              "      <script>\n",
              "        const buttonEl =\n",
              "          document.querySelector('#df-81f34b06-2ebf-4eb6-8d08-a951213b204a button.colab-df-convert');\n",
              "        buttonEl.style.display =\n",
              "          google.colab.kernel.accessAllowed ? 'block' : 'none';\n",
              "\n",
              "        async function convertToInteractive(key) {\n",
              "          const element = document.querySelector('#df-81f34b06-2ebf-4eb6-8d08-a951213b204a');\n",
              "          const dataTable =\n",
              "            await google.colab.kernel.invokeFunction('convertToInteractive',\n",
              "                                                     [key], {});\n",
              "          if (!dataTable) return;\n",
              "\n",
              "          const docLinkHtml = 'Like what you see? Visit the ' +\n",
              "            '<a target=\"_blank\" href=https://colab.research.google.com/notebooks/data_table.ipynb>data table notebook</a>'\n",
              "            + ' to learn more about interactive tables.';\n",
              "          element.innerHTML = '';\n",
              "          dataTable['output_type'] = 'display_data';\n",
              "          await google.colab.output.renderOutput(dataTable, element);\n",
              "          const docLink = document.createElement('div');\n",
              "          docLink.innerHTML = docLinkHtml;\n",
              "          element.appendChild(docLink);\n",
              "        }\n",
              "      </script>\n",
              "    </div>\n",
              "  </div>\n",
              "  "
            ]
          },
          "metadata": {},
          "execution_count": 174
        }
      ]
    },
    {
      "cell_type": "code",
      "source": [
        "Y"
      ],
      "metadata": {
        "id": "J6yeRMYRhaq0",
        "colab": {
          "base_uri": "https://localhost:8080/"
        },
        "outputId": "eb78d940-380d-4511-9f18-8910dea80481"
      },
      "execution_count": null,
      "outputs": [
        {
          "output_type": "execute_result",
          "data": {
            "text/plain": [
              "0      22.1\n",
              "1      10.4\n",
              "2       9.3\n",
              "3      18.5\n",
              "4      12.9\n",
              "       ... \n",
              "195     7.6\n",
              "196     9.7\n",
              "197    12.8\n",
              "198    25.5\n",
              "199    13.4\n",
              "Name: Sales, Length: 200, dtype: float64"
            ]
          },
          "metadata": {},
          "execution_count": 175
        }
      ]
    },
    {
      "cell_type": "code",
      "source": [
        "# Splitting the test and train data\n",
        "X_train, X_test, Y_train, Y_test = train_test_split(X, Y, test_size = 0.2, random_state=10)"
      ],
      "metadata": {
        "id": "Ovialw-dhauE"
      },
      "execution_count": null,
      "outputs": []
    },
    {
      "cell_type": "markdown",
      "source": [
        "# **Model Training**"
      ],
      "metadata": {
        "id": "pgQqms3ZDheu"
      }
    },
    {
      "cell_type": "code",
      "source": [
        "lin = LinearRegression()"
      ],
      "metadata": {
        "id": "YpB2Ucn4hawE"
      },
      "execution_count": null,
      "outputs": []
    },
    {
      "cell_type": "code",
      "source": [
        "lin.fit(X_train, Y_train)"
      ],
      "metadata": {
        "id": "ZhJNuzqphazh",
        "colab": {
          "base_uri": "https://localhost:8080/",
          "height": 74
        },
        "outputId": "3cc77e34-574c-4bc4-d246-3093c2c87d47"
      },
      "execution_count": null,
      "outputs": [
        {
          "output_type": "execute_result",
          "data": {
            "text/plain": [
              "LinearRegression()"
            ],
            "text/html": [
              "<style>#sk-container-id-24 {color: black;background-color: white;}#sk-container-id-24 pre{padding: 0;}#sk-container-id-24 div.sk-toggleable {background-color: white;}#sk-container-id-24 label.sk-toggleable__label {cursor: pointer;display: block;width: 100%;margin-bottom: 0;padding: 0.3em;box-sizing: border-box;text-align: center;}#sk-container-id-24 label.sk-toggleable__label-arrow:before {content: \"▸\";float: left;margin-right: 0.25em;color: #696969;}#sk-container-id-24 label.sk-toggleable__label-arrow:hover:before {color: black;}#sk-container-id-24 div.sk-estimator:hover label.sk-toggleable__label-arrow:before {color: black;}#sk-container-id-24 div.sk-toggleable__content {max-height: 0;max-width: 0;overflow: hidden;text-align: left;background-color: #f0f8ff;}#sk-container-id-24 div.sk-toggleable__content pre {margin: 0.2em;color: black;border-radius: 0.25em;background-color: #f0f8ff;}#sk-container-id-24 input.sk-toggleable__control:checked~div.sk-toggleable__content {max-height: 200px;max-width: 100%;overflow: auto;}#sk-container-id-24 input.sk-toggleable__control:checked~label.sk-toggleable__label-arrow:before {content: \"▾\";}#sk-container-id-24 div.sk-estimator input.sk-toggleable__control:checked~label.sk-toggleable__label {background-color: #d4ebff;}#sk-container-id-24 div.sk-label input.sk-toggleable__control:checked~label.sk-toggleable__label {background-color: #d4ebff;}#sk-container-id-24 input.sk-hidden--visually {border: 0;clip: rect(1px 1px 1px 1px);clip: rect(1px, 1px, 1px, 1px);height: 1px;margin: -1px;overflow: hidden;padding: 0;position: absolute;width: 1px;}#sk-container-id-24 div.sk-estimator {font-family: monospace;background-color: #f0f8ff;border: 1px dotted black;border-radius: 0.25em;box-sizing: border-box;margin-bottom: 0.5em;}#sk-container-id-24 div.sk-estimator:hover {background-color: #d4ebff;}#sk-container-id-24 div.sk-parallel-item::after {content: \"\";width: 100%;border-bottom: 1px solid gray;flex-grow: 1;}#sk-container-id-24 div.sk-label:hover label.sk-toggleable__label {background-color: #d4ebff;}#sk-container-id-24 div.sk-serial::before {content: \"\";position: absolute;border-left: 1px solid gray;box-sizing: border-box;top: 0;bottom: 0;left: 50%;z-index: 0;}#sk-container-id-24 div.sk-serial {display: flex;flex-direction: column;align-items: center;background-color: white;padding-right: 0.2em;padding-left: 0.2em;position: relative;}#sk-container-id-24 div.sk-item {position: relative;z-index: 1;}#sk-container-id-24 div.sk-parallel {display: flex;align-items: stretch;justify-content: center;background-color: white;position: relative;}#sk-container-id-24 div.sk-item::before, #sk-container-id-24 div.sk-parallel-item::before {content: \"\";position: absolute;border-left: 1px solid gray;box-sizing: border-box;top: 0;bottom: 0;left: 50%;z-index: -1;}#sk-container-id-24 div.sk-parallel-item {display: flex;flex-direction: column;z-index: 1;position: relative;background-color: white;}#sk-container-id-24 div.sk-parallel-item:first-child::after {align-self: flex-end;width: 50%;}#sk-container-id-24 div.sk-parallel-item:last-child::after {align-self: flex-start;width: 50%;}#sk-container-id-24 div.sk-parallel-item:only-child::after {width: 0;}#sk-container-id-24 div.sk-dashed-wrapped {border: 1px dashed gray;margin: 0 0.4em 0.5em 0.4em;box-sizing: border-box;padding-bottom: 0.4em;background-color: white;}#sk-container-id-24 div.sk-label label {font-family: monospace;font-weight: bold;display: inline-block;line-height: 1.2em;}#sk-container-id-24 div.sk-label-container {text-align: center;}#sk-container-id-24 div.sk-container {/* jupyter's `normalize.less` sets `[hidden] { display: none; }` but bootstrap.min.css set `[hidden] { display: none !important; }` so we also need the `!important` here to be able to override the default hidden behavior on the sphinx rendered scikit-learn.org. See: https://github.com/scikit-learn/scikit-learn/issues/21755 */display: inline-block !important;position: relative;}#sk-container-id-24 div.sk-text-repr-fallback {display: none;}</style><div id=\"sk-container-id-24\" class=\"sk-top-container\"><div class=\"sk-text-repr-fallback\"><pre>LinearRegression()</pre><b>In a Jupyter environment, please rerun this cell to show the HTML representation or trust the notebook. <br />On GitHub, the HTML representation is unable to render, please try loading this page with nbviewer.org.</b></div><div class=\"sk-container\" hidden><div class=\"sk-item\"><div class=\"sk-estimator sk-toggleable\"><input class=\"sk-toggleable__control sk-hidden--visually\" id=\"sk-estimator-id-24\" type=\"checkbox\" checked><label for=\"sk-estimator-id-24\" class=\"sk-toggleable__label sk-toggleable__label-arrow\">LinearRegression</label><div class=\"sk-toggleable__content\"><pre>LinearRegression()</pre></div></div></div></div></div>"
            ]
          },
          "metadata": {},
          "execution_count": 216
        }
      ]
    },
    {
      "cell_type": "code",
      "source": [
        "pred_on_train = lin.predict(X_train)"
      ],
      "metadata": {
        "id": "wQzn-sy3ha1U"
      },
      "execution_count": null,
      "outputs": []
    },
    {
      "cell_type": "code",
      "source": [
        "pred_on_train"
      ],
      "metadata": {
        "id": "JMmI1X23ha4y",
        "colab": {
          "base_uri": "https://localhost:8080/"
        },
        "outputId": "8670a417-bf93-4fd2-f1c6-65af6bdbf0d2"
      },
      "execution_count": null,
      "outputs": [
        {
          "output_type": "execute_result",
          "data": {
            "text/plain": [
              "array([12.92028367, 12.28099653, 15.1487058 , 10.10054313, 21.99161246,\n",
              "       10.76747572, 14.7661212 , 15.05785147,  8.916832  , 12.05627807,\n",
              "        8.377599  , 13.87664564, 23.02502886, 17.51275854, 14.57984468,\n",
              "        5.93510118, 24.74044038, 17.80201748, 10.05985156,  8.36363062,\n",
              "        7.14851131, 14.59817458, 16.39674242, 13.26888438, 18.67152907,\n",
              "       18.94060348, 13.98744306, 15.65288507, 12.13366533,  9.38648223,\n",
              "       14.52019973, 10.22712641,  8.30724473, 13.82043061, 17.13600698,\n",
              "       16.3789032 , 14.77656602, 11.26256506,  6.72008424, 17.37625531,\n",
              "       11.71328264, 14.46160012,  7.73207983,  7.64554012, 16.14425695,\n",
              "       15.39546845, 20.05274825, 18.13413086, 23.10728723, 16.67969734,\n",
              "        9.49779947, 18.44950617, 10.40442798, 20.84183307, 18.41684259,\n",
              "        9.34843592, 17.74404443, 16.45800549, 23.27907498, 18.45353356,\n",
              "       15.97764425,  6.36103017,  9.70729862, 17.13000423, 15.20071512,\n",
              "        8.87848374, 15.36071069, 12.39794329,  8.63463214, 21.45981526,\n",
              "        8.08807912, 15.32770902,  9.76966795, 14.23758425, 12.13451794,\n",
              "        8.85860894, 17.11935582, 10.93850543, 13.91846236, 17.28555149,\n",
              "        6.79693183,  6.40997989, 15.12369928, 15.15656941, 12.0632471 ,\n",
              "       22.36828575, 10.15539038,  5.66468331, 12.68628274, 20.30366999,\n",
              "        7.69744834,  3.84783431, 12.52238923, 12.18961062, 10.24112968,\n",
              "        9.74285686, 13.1270985 , 19.25480175,  9.22751047, 12.56742905,\n",
              "       19.9236434 , 19.33571533, 14.44071945, 14.39179495, 10.59331354,\n",
              "       10.7557679 , 15.71747012,  4.72963128, 12.78651035, 20.69181294,\n",
              "       17.32442488,  6.75049028, 10.63904265, 10.06687696, 18.14731997,\n",
              "       11.97024912, 21.1358055 , 10.20775055, 16.94319062, 23.3982257 ,\n",
              "       12.89284102, 11.47572656,  8.07132758,  9.72661552, 17.19186572,\n",
              "       10.80317232, 21.45296221, 11.87769316, 19.13189906, 18.4118813 ,\n",
              "       11.00728966, 18.34760808,  8.9759693 , 14.00988703, 13.80188009,\n",
              "       24.00068883, 18.74809157, 16.66624627, 13.4886302 ,  7.21746233,\n",
              "       11.88816572, 20.28859213, 19.83557056, 13.70989199, 13.04744451,\n",
              "       13.19411674, 11.21567561, 16.36117497, 20.48370749,  9.95107876,\n",
              "        4.03452198,  5.61115526, 10.00853627, 15.6661254 , 15.30764884,\n",
              "       16.38970615, 17.20720507, 20.91611405,  9.2958516 , 12.45553856])"
            ]
          },
          "metadata": {},
          "execution_count": 218
        }
      ]
    },
    {
      "cell_type": "code",
      "source": [
        "# r square error\n",
        "error_score = metrics.r2_score(Y_train, pred_on_train)\n",
        "print('r2_error score is:', error_score)"
      ],
      "metadata": {
        "id": "F4jRCvxOha7L",
        "colab": {
          "base_uri": "https://localhost:8080/"
        },
        "outputId": "8526b930-6a00-4298-985e-91adbf825b5f"
      },
      "execution_count": null,
      "outputs": [
        {
          "output_type": "stream",
          "name": "stdout",
          "text": [
            "r2_error score is: 0.9209087553499528\n"
          ]
        }
      ]
    },
    {
      "cell_type": "markdown",
      "source": [
        "# **Visualizing the actual prices and Predicted prices**"
      ],
      "metadata": {
        "id": "Q3Ea9QxWEyaC"
      }
    },
    {
      "cell_type": "code",
      "source": [
        "plt.scatter(Y_train, pred_on_train)\n",
        "plt.title('Actual Price vs Predicted Price')\n",
        "plt.xlabel('Actual Price')\n",
        "plt.title('Predicted Price')\n",
        "plt.show()"
      ],
      "metadata": {
        "id": "nzSn7fCdha-a",
        "colab": {
          "base_uri": "https://localhost:8080/",
          "height": 472
        },
        "outputId": "2b8b8047-d04a-4a74-bba0-f3bbbe25f748"
      },
      "execution_count": null,
      "outputs": [
        {
          "output_type": "display_data",
          "data": {
            "text/plain": [
              "<Figure size 640x480 with 1 Axes>"
            ],
            "image/png": "[encoded data removed]"
          },
          "metadata": {}
        }
      ]
    },
    {
      "cell_type": "code",
      "source": [
        "# Prediction on test data\n",
        "pred_on_test = lin.predict(X_test)"
      ],
      "metadata": {
        "id": "VblZdIrzhbAb"
      },
      "execution_count": null,
      "outputs": []
    },
    {
      "cell_type": "code",
      "source": [
        "# r square error\n",
        "error_score_test = metrics.r2_score(Y_test, pred_on_test)\n",
        "print('r2_error score is:', error_score_test)"
      ],
      "metadata": {
        "id": "41PW-Ld-hbDs",
        "colab": {
          "base_uri": "https://localhost:8080/"
        },
        "outputId": "c410e94e-4df5-499d-93bb-841a3de5f304"
      },
      "execution_count": null,
      "outputs": [
        {
          "output_type": "stream",
          "name": "stdout",
          "text": [
            "r2_error score is: 0.8353672324670594\n"
          ]
        }
      ]
    },
    {
      "cell_type": "code",
      "source": [
        "plt.scatter(Y_test, pred_on_test)\n",
        "plt.title('Actual Price vs Predicted Price')\n",
        "plt.xlabel('Actual Price')\n",
        "plt.title('Predicted Price')\n",
        "plt.show()"
      ],
      "metadata": {
        "id": "tUkY7A_8hbGM",
        "colab": {
          "base_uri": "https://localhost:8080/",
          "height": 472
        },
        "outputId": "fafbdb9c-17bf-48b2-c0a6-e4b9d1be6fa0"
      },
      "execution_count": null,
      "outputs": [
        {
          "output_type": "display_data",
          "data": {
            "text/plain": [
              "<Figure size 640x480 with 1 Axes>"
            ],
            "image/png": "[encoded data removed]"
          },
          "metadata": {}
        }
      ]
    },
    {
      "cell_type": "code",
      "source": [],
      "metadata": {
        "id": "zRaljBaJhbJM"
      },
      "execution_count": null,
      "outputs": []
    },
    {
      "cell_type": "code",
      "source": [],
      "metadata": {
        "id": "ht9hzOUghbK7"
      },
      "execution_count": null,
      "outputs": []
    },
    {
      "cell_type": "code",
      "source": [],
      "metadata": {
        "id": "4GWHVpr8hbOV"
      },
      "execution_count": null,
      "outputs": []
    },
    {
      "cell_type": "code",
      "source": [],
      "metadata": {
        "id": "wbiKXE9ehbQB"
      },
      "execution_count": null,
      "outputs": []
    },
    {
      "cell_type": "code",
      "source": [],
      "metadata": {
        "id": "FGXA_9eUhbTl"
      },
      "execution_count": null,
      "outputs": []
    },
    {
      "cell_type": "code",
      "source": [],
      "metadata": {
        "id": "I9SGHdR4hbVk"
      },
      "execution_count": null,
      "outputs": []
    },
    {
      "cell_type": "code",
      "source": [],
      "metadata": {
        "id": "nZDvExSHhbYv"
      },
      "execution_count": null,
      "outputs": []
    },
    {
      "cell_type": "code",
      "source": [],
      "metadata": {
        "id": "luZE0jmfhbaj"
      },
      "execution_count": null,
      "outputs": []
    },
    {
      "cell_type": "code",
      "source": [],
      "metadata": {
        "id": "PVDZL0-Dhbd4"
      },
      "execution_count": null,
      "outputs": []
    },
    {
      "cell_type": "code",
      "source": [],
      "metadata": {
        "id": "wsegcRQYhbgz"
      },
      "execution_count": null,
      "outputs": []
    }
  ]
}